{
 "cells": [
  {
   "cell_type": "code",
   "execution_count": 10,
   "metadata": {},
   "outputs": [
    {
     "data": {
      "text/plain": [
       "38"
      ]
     },
     "execution_count": 10,
     "metadata": {},
     "output_type": "execute_result"
    }
   ],
   "source": [
    "import pandas as pd\n",
    "\n",
    "d = pd.read_csv('movie_reviews/JW.csv')\n",
    "# d = pd.read_csv('data.csv')\n",
    "len(d)"
   ]
  },
  {
   "cell_type": "code",
   "execution_count": 11,
   "metadata": {},
   "outputs": [
    {
     "data": {
      "text/html": [
       "<div>\n",
       "<style scoped>\n",
       "    .dataframe tbody tr th:only-of-type {\n",
       "        vertical-align: middle;\n",
       "    }\n",
       "\n",
       "    .dataframe tbody tr th {\n",
       "        vertical-align: top;\n",
       "    }\n",
       "\n",
       "    .dataframe thead th {\n",
       "        text-align: right;\n",
       "    }\n",
       "</style>\n",
       "<table border=\"1\" class=\"dataframe\">\n",
       "  <thead>\n",
       "    <tr style=\"text-align: right;\">\n",
       "      <th></th>\n",
       "      <th>Date</th>\n",
       "      <th>Title</th>\n",
       "      <th>Review</th>\n",
       "      <th>Rating</th>\n",
       "    </tr>\n",
       "  </thead>\n",
       "  <tbody>\n",
       "    <tr>\n",
       "      <th>33</th>\n",
       "      <td>19 March 2023</td>\n",
       "      <td>The bad reviews are right again...</td>\n",
       "      <td>I never read the good reviews in anything. Mov...</td>\n",
       "      <td>10.0</td>\n",
       "    </tr>\n",
       "    <tr>\n",
       "      <th>34</th>\n",
       "      <td>6 April 2023</td>\n",
       "      <td>Don't people expect anything from movies anymore?</td>\n",
       "      <td>Imagine a video game where you are shooting ba...</td>\n",
       "      <td>1.0</td>\n",
       "    </tr>\n",
       "    <tr>\n",
       "      <th>35</th>\n",
       "      <td>28 March 2023</td>\n",
       "      <td>Worst wick ever ! Hardly believable 🤣🤣</td>\n",
       "      <td>Imagine a video game where you are shooting ba...</td>\n",
       "      <td>1.0</td>\n",
       "    </tr>\n",
       "    <tr>\n",
       "      <th>36</th>\n",
       "      <td>28 March 2023</td>\n",
       "      <td>High hopes dashed</td>\n",
       "      <td>Imagine a video game where you are shooting ba...</td>\n",
       "      <td>3.0</td>\n",
       "    </tr>\n",
       "    <tr>\n",
       "      <th>37</th>\n",
       "      <td>23 June 2023</td>\n",
       "      <td>What was that ?</td>\n",
       "      <td>This movie was just silly nonsense and reminde...</td>\n",
       "      <td>1.0</td>\n",
       "    </tr>\n",
       "  </tbody>\n",
       "</table>\n",
       "</div>"
      ],
      "text/plain": [
       "             Date                                              Title  \\\n",
       "33  19 March 2023                 The bad reviews are right again...   \n",
       "34   6 April 2023  Don't people expect anything from movies anymore?   \n",
       "35  28 March 2023             Worst wick ever ! Hardly believable 🤣🤣   \n",
       "36  28 March 2023                                  High hopes dashed   \n",
       "37   23 June 2023                                    What was that ?   \n",
       "\n",
       "                                               Review  Rating  \n",
       "33  I never read the good reviews in anything. Mov...    10.0  \n",
       "34  Imagine a video game where you are shooting ba...     1.0  \n",
       "35  Imagine a video game where you are shooting ba...     1.0  \n",
       "36  Imagine a video game where you are shooting ba...     3.0  \n",
       "37  This movie was just silly nonsense and reminde...     1.0  "
      ]
     },
     "execution_count": 11,
     "metadata": {},
     "output_type": "execute_result"
    }
   ],
   "source": [
    "d.tail()"
   ]
  },
  {
   "cell_type": "code",
   "execution_count": 6,
   "metadata": {},
   "outputs": [
    {
     "name": "stderr",
     "output_type": "stream",
     "text": [
      "C:\\Users\\astar\\AppData\\Local\\Temp\\ipykernel_10316\\147515337.py:18: DeprecationWarning: executable_path has been deprecated, please pass in a Service object\n",
      "  driver = webdriver.Edge('msedgedriver.exe')\n",
      " 22%|██▏       | 2/9 [00:00<00:01,  3.64it/s]"
     ]
    },
    {
     "name": "stdout",
     "output_type": "stream",
     "text": [
      "Imagine a video game where you are shooting bad guys. Your hardware is old so everything is kind of slow and out of focus. The opponents are set to Easy and you installed a hack to give you invincibility and autoaim. And they come at you slowly, shouting, out in the open, with weapons that fire three or four bullets before they run out and they can shoot anything anyway. They use no snipers, no explosives, no traps of any kind. They can't even hit you when they're next to you and wielding a knife. And you try to fight them in a decent manner, yet your avatar moves like a 60 year old man and even with the autoaim you still suck. And if you somehow get into the many separate levels where nothing make sense, you get a big cinematic that takes you out of it. And because the cinematic is in 4k or whatever, it feels like slow motion.\n",
      "\n",
      "That, my friends, is the experience of watching JW4. The style that people have applauded in the first movie has turned into a demented caricature, the fight scenes are ridiculously bad, the actions of the characters make no sense at all, the world described makes no sense. Not even the tongue-in-cheek references to The Matrix don't hit, because you know that if you enjoyed that film, you're now over 40 and it makes you feel old. The film is three hours of irrelevance.\n",
      "\n",
      "And if you are among the people who I can't understand that rated this film anything above boring, just watch the end credits scene. It destroys the little joy that you might have kept watching this.\n",
      "\n",
      "Bottom line: So many talented people worked on this film. With them on board, I cannot imagine a worse outcome. It's not even funny, it's just sad. There is such a thing as too much 5\n"
     ]
    },
    {
     "name": "stderr",
     "output_type": "stream",
     "text": [
      " 56%|█████▌    | 5/9 [00:00<00:00,  6.25it/s]"
     ]
    },
    {
     "name": "stdout",
     "output_type": "stream",
     "text": [
      "Imagine a video game where you are shooting bad guys. Your hardware is old so everything is kind of slow and out of focus. The opponents are set to Easy and you installed a hack to give you invincibility and autoaim. And they come at you slowly, shouting, out in the open, with weapons that fire three or four bullets before they run out and they can shoot anything anyway. They use no snipers, no explosives, no traps of any kind. They can't even hit you when they're next to you and wielding a knife. And you try to fight them in a decent manner, yet your avatar moves like a 60 year old man and even with the autoaim you still suck. And if you somehow get into the many separate levels where nothing make sense, you get a big cinematic that takes you out of it. And because the cinematic is in 4k or whatever, it feels like slow motion.\n",
      "\n",
      "That, my friends, is the experience of watching JW4. The style that people have applauded in the first movie has turned into a demented caricature, the fight scenes are ridiculously bad, the actions of the characters make no sense at all, the world described makes no sense. Not even the tongue-in-cheek references to The Matrix don't hit, because you know that if you enjoyed that film, you're now over 40 and it makes you feel old. The film is three hours of irrelevance.\n",
      "\n",
      "And if you are among the people who I can't understand that rated this film anything above boring, just watch the end credits scene. It destroys the little joy that you might have kept watching this.\n",
      "\n",
      "Bottom line: So many talented people worked on this film. With them on board, I cannot imagine a worse outcome. It's not even funny, it's just sad. It got on my wick. 4\n"
     ]
    },
    {
     "name": "stderr",
     "output_type": "stream",
     "text": [
      " 78%|███████▊  | 7/9 [00:01<00:00,  6.05it/s]"
     ]
    },
    {
     "name": "stdout",
     "output_type": "stream",
     "text": [
      "Imagine a video game where you are shooting bad guys. Your hardware is old so everything is kind of slow and out of focus. The opponents are set to Easy and you installed a hack to give you invincibility and autoaim. And they come at you slowly, shouting, out in the open, with weapons that fire three or four bullets before they run out and they can shoot anything anyway. They use no snipers, no explosives, no traps of any kind. They can't even hit you when they're next to you and wielding a knife. And you try to fight them in a decent manner, yet your avatar moves like a 60 year old man and even with the autoaim you still suck. And if you somehow get into the many separate levels where nothing make sense, you get a big cinematic that takes you out of it. And because the cinematic is in 4k or whatever, it feels like slow motion.\n",
      "\n",
      "That, my friends, is the experience of watching JW4. The style that people have applauded in the first movie has turned into a demented caricature, the fight scenes are ridiculously bad, the actions of the characters make no sense at all, the world described makes no sense. Not even the tongue-in-cheek references to The Matrix don't hit, because you know that if you enjoyed that film, you're now over 40 and it makes you feel old. The film is three hours of irrelevance.\n",
      "\n",
      "And if you are among the people who I can't understand that rated this film anything above boring, just watch the end credits scene. It destroys the little joy that you might have kept watching this.\n",
      "\n",
      "Bottom line: So many talented people worked on this film. With them on board, I cannot imagine a worse outcome. It's not even funny, it's just sad. \"Yeah.\" 5\n"
     ]
    },
    {
     "name": "stderr",
     "output_type": "stream",
     "text": [
      "100%|██████████| 9/9 [00:01<00:00,  5.42it/s]"
     ]
    },
    {
     "name": "stdout",
     "output_type": "stream",
     "text": [
      "Imagine a video game where you are shooting bad guys. Your hardware is old so everything is kind of slow and out of focus. The opponents are set to Easy and you installed a hack to give you invincibility and autoaim. And they come at you slowly, shouting, out in the open, with weapons that fire three or four bullets before they run out and they can shoot anything anyway. They use no snipers, no explosives, no traps of any kind. They can't even hit you when they're next to you and wielding a knife. And you try to fight them in a decent manner, yet your avatar moves like a 60 year old man and even with the autoaim you still suck. And if you somehow get into the many separate levels where nothing make sense, you get a big cinematic that takes you out of it. And because the cinematic is in 4k or whatever, it feels like slow motion.\n",
      "\n",
      "That, my friends, is the experience of watching JW4. The style that people have applauded in the first movie has turned into a demented caricature, the fight scenes are ridiculously bad, the actions of the characters make no sense at all, the world described makes no sense. Not even the tongue-in-cheek references to The Matrix don't hit, because you know that if you enjoyed that film, you're now over 40 and it makes you feel old. The film is three hours of irrelevance.\n",
      "\n",
      "And if you are among the people who I can't understand that rated this film anything above boring, just watch the end credits scene. It destroys the little joy that you might have kept watching this.\n",
      "\n",
      "Bottom line: So many talented people worked on this film. With them on board, I cannot imagine a worse outcome. It's not even funny, it's just sad. I don't understand the great scores of this movie 4\n"
     ]
    },
    {
     "name": "stderr",
     "output_type": "stream",
     "text": [
      "\n"
     ]
    }
   ],
   "source": [
    "from selenium import webdriver\n",
    "from selenium.webdriver.support.ui import WebDriverWait\n",
    "from selenium.webdriver.support import expected_conditions as EC\n",
    "from selenium.webdriver.common.by import By\n",
    "from selenium.common.exceptions import NoSuchElementException\n",
    "import pandas as pd\n",
    "import os\n",
    "from selenium import webdriver\n",
    "from selenium.webdriver.common.keys import Keys\n",
    "import time\n",
    "from bs4 import BeautifulSoup\n",
    "from tqdm import tqdm\n",
    "import re\n",
    "import os\n",
    "\n",
    "# movie_link = 'https://www.imdb.com/title/tt2906216/reviews/?ref_=tt_ql_2'\n",
    "movie_link = 'https://www.imdb.com/title/tt10366206/reviews/?ref_=tt_ql_2'\n",
    "driver = webdriver.Edge('msedgedriver.exe')\n",
    "driver.get(movie_link)\n",
    "driver.maximize_window()\n",
    "\n",
    "last_height = driver.execute_script(\"return document.body.scrollHeight\")\n",
    "\n",
    "cnt_load_more = 0\n",
    "while True:\n",
    "    driver.execute_script('window.scrollTo(0, document.body.scrollHeight-250);')\n",
    "    try:\n",
    "        load_button = driver.find_element(By.CLASS_NAME,'ipl-load-more__button')\n",
    "        load_button.click()\n",
    "        time.sleep(0.1) \n",
    "        cnt_load_more+=1\n",
    "        if cnt_load_more==15: break  \n",
    "    except:\n",
    "        break\n",
    "\n",
    "driver.execute_script('window.scrollTo(0, 100);')\n",
    "\n",
    "reviews_date = []\n",
    "reviews_comment = []\n",
    "reviews_rating = []\n",
    "reviews_title = []\n",
    "for i in tqdm(range(1,10)):\n",
    "    try:\n",
    "        try:\n",
    "            revs = driver.find_element(By.XPATH,f'//*[@id=\"main\"]/section/div[2]/div[2]/div[{i}]/div')\n",
    "        except NoSuchElementException:\n",
    "            print(\"revs_1\")\n",
    "            continue\n",
    "        try: \n",
    "            spolier_btn = revs.find_element(By.CLASS_NAME,\"ipl-expander\").click()\n",
    "        except NoSuchElementException:\n",
    "            continue\n",
    "        try:\n",
    "            rating = revs.find_element(By.CLASS_NAME,\"rating-other-user-rating\").text.split(\"/\")[0]\n",
    "        except NoSuchElementException:\n",
    "            # print(i)\n",
    "            rating = \"\"\n",
    "        try:\n",
    "            title = revs.find_element(By.CLASS_NAME,\"title\").text.strip()\n",
    "        except NoSuchElementException:\n",
    "            title= \"\"\n",
    "        try:\n",
    "            contents = revs.find_element(By.XPATH,\"//div[contains(@class, 'text show-more__control')]\").text\n",
    "        except NoSuchElementException:\n",
    "            reviews_comment.append(\"\")\n",
    "    except:\n",
    "        try:\n",
    "            # //*[@id=\"main\"]/section/div[2]/div[2]/div[1]/div[1]\n",
    "            revs = driver.find_element(By.XPATH,f'//*[@id=\"main\"]/section/div[2]/div[2]/div[{i}]/div[1]') \n",
    "        except NoSuchElementException:\n",
    "            print(\"revs_2\")\n",
    "            continue\n",
    "        try:\n",
    "            rating = revs.find_element(By.CLASS_NAME,\"rating-other-user-rating\").text.split(\"/\")[0]\n",
    "        except NoSuchElementException:\n",
    "            reviews_rating.append(\"\")\n",
    "        try:\n",
    "            title = revs.find_element(By.CLASS_NAME,\"title\").text.strip()\n",
    "        except NoSuchElementException:\n",
    "            title = \"\"\n",
    "        try:\n",
    "            contents = revs.find_element(By.CLASS_NAME,\"content\").text\n",
    "            if contents == \"\":\n",
    "                contents = revs.find_element(By.CLASS_NAME,\"text show-more__control clickable\").text\n",
    "        except NoSuchElementException:\n",
    "            rating = \"\"\n",
    "\n",
    "    re.sub('\\n',' ',contents)\n",
    "    re.sub('\\t',' ',contents)\n",
    "    contents.replace(\"//\",\"\")\n",
    "    print(contents,title,rating)\n",
    "    reviews_date.append(revs.find_element(By.CLASS_NAME,\"review-date\").text)\n",
    "\n",
    "    reviews_comment.append(contents)\n",
    "    reviews_rating.append(rating)\n",
    "    reviews_title.append(title)\n",
    "\n",
    "# driver.quit()\n",
    "df = pd.DataFrame(columns=['Date','Title','Review','Rating'])\n",
    "\n",
    "df['Date'] = reviews_date\n",
    "df['Title'] = reviews_title\n",
    "df['Review'] = reviews_comment\n",
    "df['Rating'] = reviews_rating\n",
    "os.makedirs('movie_reviews',exist_ok=True)\n",
    "# print(df)\n",
    "df.to_csv(f'movie_reviews/JW.csv',index=False)"
   ]
  },
  {
   "cell_type": "code",
   "execution_count": 9,
   "metadata": {},
   "outputs": [
    {
     "name": "stderr",
     "output_type": "stream",
     "text": [
      "C:\\Users\\astar\\AppData\\Local\\Temp\\ipykernel_10316\\2630274741.py:18: DeprecationWarning: executable_path has been deprecated, please pass in a Service object\n",
      "  driver = webdriver.Edge('msedgedriver.exe')\n"
     ]
    }
   ],
   "source": [
    "from selenium import webdriver\n",
    "from selenium.webdriver.support.ui import WebDriverWait\n",
    "from selenium.webdriver.support import expected_conditions as EC\n",
    "from selenium.webdriver.common.by import By\n",
    "from selenium.common.exceptions import NoSuchElementException\n",
    "import pandas as pd\n",
    "import os\n",
    "from selenium import webdriver\n",
    "from selenium.webdriver.common.keys import Keys\n",
    "import time\n",
    "from bs4 import BeautifulSoup\n",
    "from tqdm import tqdm\n",
    "import re\n",
    "import os\n",
    "\n",
    "# movie_link = 'https://www.imdb.com/title/tt2906216/reviews/?ref_=tt_ql_2'\n",
    "movie_link = 'https://www.imdb.com/title/tt10366206/reviews/?ref_=tt_ql_2'\n",
    "driver = webdriver.Edge('msedgedriver.exe')\n",
    "driver.get(movie_link)\n",
    "driver.maximize_window()\n",
    "\n",
    "last_height = driver.execute_script(\"return document.body.scrollHeight\")\n",
    "\n",
    "cnt_load_more = 0\n",
    "while True:\n",
    "    driver.execute_script('window.scrollTo(0, document.body.scrollHeight-250);')\n",
    "    try:\n",
    "        load_button = driver.find_element(By.CLASS_NAME,'ipl-load-more__button')\n",
    "        load_button.click()\n",
    "        time.sleep(0.1) \n",
    "        cnt_load_more+=1\n",
    "        if cnt_load_more==15: break  \n",
    "    except:\n",
    "        break\n",
    "\n",
    "driver.execute_script('window.scrollTo(0, 100);')\n",
    "\n",
    "reviews_date = []\n",
    "reviews_comment = []\n",
    "reviews_rating = []\n",
    "reviews_title = []\n",
    "rev_containers = driver.find_elements(By.CLASS_NAME,\"review-container\")\n",
    "# for i in tqdm(range(1,10)):\n",
    "for i,revs in enumerate(rev_containers[12:]):\n",
    "    try:\n",
    "        if_spoiler = revs.find_element(By.CLASS_NAME,\"spoiler-warning\")\n",
    "        spolier_btn = revs.find_element(By.CLASS_NAME,\"ipl-expander\").click()\n",
    "        contents = revs.find_element(By.XPATH,\"//div[contains(@class, 'text show-more__control')]\").text\n",
    "    except NoSuchElementException:\n",
    "        contents = revs.find_element(By.CLASS_NAME,\"content\").text\n",
    "        if contents == \"\":\n",
    "            contents = revs.find_element(By.CLASS_NAME,\"text show-more__control clickable\").text\n",
    "\n",
    "    \n",
    "    try:\n",
    "        title = revs.find_element(By.CLASS_NAME,\"title\").text.strip()\n",
    "    except NoSuchElementException:\n",
    "        title=  \"\"\n",
    "\n",
    "    try:\n",
    "        rating = revs.find_element(By.CLASS_NAME,\"rating-other-user-rating\").text.split(\"/\")[0]\n",
    "    except NoSuchElementException:\n",
    "        rating= \"\"\n",
    "    re.sub('\\n',' ',contents)\n",
    "    re.sub('\\t',' ',contents)\n",
    "    contents.replace(\"//\",\"\")\n",
    "    # print(contents,title,rating)\n",
    "    reviews_date.append(revs.find_element(By.CLASS_NAME,\"review-date\").text)\n",
    "\n",
    "    reviews_comment.append(contents)\n",
    "    reviews_rating.append(rating)\n",
    "    reviews_title.append(title)\n",
    "\n",
    "# driver.quit()\n",
    "df = pd.DataFrame(columns=['Date','Title','Review','Rating'])\n",
    "\n",
    "df['Date'] = reviews_date\n",
    "df['Title'] = reviews_title\n",
    "df['Review'] = reviews_comment\n",
    "df['Rating'] = reviews_rating\n",
    "os.makedirs('movie_reviews',exist_ok=True)\n",
    "# print(df)\n",
    "df.to_csv(f'movie_reviews/JW.csv',index=False)"
   ]
  },
  {
   "cell_type": "code",
   "execution_count": null,
   "metadata": {},
   "outputs": [],
   "source": []
  }
 ],
 "metadata": {
  "kernelspec": {
   "display_name": "PyTorch",
   "language": "python",
   "name": "python3"
  },
  "language_info": {
   "codemirror_mode": {
    "name": "ipython",
    "version": 3
   },
   "file_extension": ".py",
   "mimetype": "text/x-python",
   "name": "python",
   "nbconvert_exporter": "python",
   "pygments_lexer": "ipython3",
   "version": "3.9.16"
  },
  "orig_nbformat": 4
 },
 "nbformat": 4,
 "nbformat_minor": 2
}
